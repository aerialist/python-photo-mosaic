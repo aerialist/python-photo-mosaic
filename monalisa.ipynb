{
 "cells": [
  {
   "cell_type": "code",
   "execution_count": 1,
   "id": "dba5c318-d2e9-42f0-bf25-5dabd577c21d",
   "metadata": {},
   "outputs": [],
   "source": [
    "import mosaic"
   ]
  },
  {
   "cell_type": "code",
   "execution_count": 2,
   "id": "8f8376fd-ea24-4b9e-984c-6de49dbe9370",
   "metadata": {},
   "outputs": [],
   "source": [
    "import glob"
   ]
  },
  {
   "cell_type": "code",
   "execution_count": 3,
   "id": "38a58fc5-3cb1-410c-953c-786a9796ab42",
   "metadata": {},
   "outputs": [],
   "source": [
    "tile_path_list = glob.glob(\"img/**/*.png\", recursive=True)"
   ]
  },
  {
   "cell_type": "code",
   "execution_count": 4,
   "id": "03b4bf51-628a-400e-b5f1-42f7a9699e7e",
   "metadata": {},
   "outputs": [
    {
     "data": {
      "text/plain": [
       "257"
      ]
     },
     "execution_count": 4,
     "metadata": {},
     "output_type": "execute_result"
    }
   ],
   "source": [
    "len(tile_path_list)"
   ]
  },
  {
   "cell_type": "code",
   "execution_count": null,
   "id": "30bbb941-0dd0-4e52-a30f-41ca20011aa9",
   "metadata": {},
   "outputs": [
    {
     "name": "stdout",
     "output_type": "stream",
     "text": [
      "Setting Up Target image\n",
      "Processing main image...\n"
     ]
    }
   ],
   "source": [
    "mosaic.create_mosaic(\n",
    "    source_path=\"Mona_Lisa.jpg\", \n",
    "    target=\"monalisa_mosaic.png\", \n",
    "    tile_paths=tile_path_list,\n",
    "    tile_ratio=1920/800, # Crop tiles to be height/width ratio\n",
    "    tile_width=300, # Tile will be scaled\n",
    "    enlargement=20, # Mosiac will be this times larger than original\n",
    "    reuse=True, # Should tiles be used multiple times?\n",
    "    color_mode='L',  # RGB (color) L (greyscale)\n",
    ") "
   ]
  },
  {
   "cell_type": "code",
   "execution_count": null,
   "id": "6fb0f3b0-5377-4975-8152-b78b58f5ac85",
   "metadata": {},
   "outputs": [],
   "source": []
  }
 ],
 "metadata": {
  "kernelspec": {
   "display_name": "Python 3 (ipykernel)",
   "language": "python",
   "name": "python3"
  },
  "language_info": {
   "codemirror_mode": {
    "name": "ipython",
    "version": 3
   },
   "file_extension": ".py",
   "mimetype": "text/x-python",
   "name": "python",
   "nbconvert_exporter": "python",
   "pygments_lexer": "ipython3",
   "version": "3.9.4"
  }
 },
 "nbformat": 4,
 "nbformat_minor": 5
}
