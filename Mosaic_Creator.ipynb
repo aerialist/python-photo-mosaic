{
 "cells": [
  {
   "cell_type": "code",
   "execution_count": 201,
   "id": "967c1040-9c33-4707-93c5-a05c3563b6ad",
   "metadata": {},
   "outputs": [],
   "source": [
    "# https://github.com/Datadolittle/Photo_Mosaic\n",
    "import os, random, argparse\n",
    "from PIL import Image\n",
    "import numpy as np"
   ]
  },
  {
   "cell_type": "code",
   "execution_count": 202,
   "id": "1e70eb49-9574-49c9-95d0-d5a7de4ff7f2",
   "metadata": {},
   "outputs": [],
   "source": [
    "def getImages(images_directory):\n",
    "    files = os.listdir(images_directory)\n",
    "    images = []\n",
    "    for file in files:\n",
    "        filePath = os.path.abspath(os.path.join(images_directory, file))\n",
    "        try:\n",
    "            fp = open(filePath, \"rb\")\n",
    "            im = Image.open(fp)\n",
    "            images.append(im)\n",
    "            im.load()\n",
    "            fp.close()\n",
    "        except:\n",
    "            print(\"Invalid image: %s\" % (filePath,))\n",
    "    return (images)\n"
   ]
  },
  {
   "cell_type": "code",
   "execution_count": 203,
   "id": "4a6b8c9c-e52a-4acf-bf6e-50e1f14eed2e",
   "metadata": {},
   "outputs": [],
   "source": [
    "def getAverageRGB(image):\n",
    "    image = image.convert('RGB')\n",
    "    im = np.array(image)\n",
    "    w, h, d = im.shape\n",
    "    return (tuple(np.average(im.reshape(w * h, d), axis=0)))"
   ]
  },
  {
   "cell_type": "code",
   "execution_count": 204,
   "id": "281cbdfb-ad4f-4d3d-82b2-1d0ac1ecb64d",
   "metadata": {},
   "outputs": [],
   "source": [
    "def splitImage(image, size):\n",
    "    W, H = image.size[0], image.size[1]\n",
    "    m, n = size\n",
    "    w, h = int(W / n), int(H / m)\n",
    "    imgs = []\n",
    "    for j in range(m):\n",
    "        for i in range(n):\n",
    "            imgs.append(image.crop((i * w, j * h, (i + 1) * w, (j + 1) * h)))\n",
    "    return (imgs)"
   ]
  },
  {
   "cell_type": "code",
   "execution_count": 205,
   "id": "04fa7c84-6b34-4a0b-b386-fde657b35d9a",
   "metadata": {},
   "outputs": [],
   "source": [
    "def getBestMatchIndex(input_avg, avgs):\n",
    "    avg = input_avg\n",
    "    index = 0\n",
    "    min_index = 0\n",
    "    min_dist = float(\"inf\")\n",
    "    for val in avgs:\n",
    "        dist = ((val[0] - avg[0]) * (val[0] - avg[0]) +\n",
    "                (val[1] - avg[1]) * (val[1] - avg[1]) +\n",
    "                (val[2] - avg[2]) * (val[2] - avg[2]))\n",
    "        if dist < min_dist and index not in MATCH_INDECES:\n",
    "            min_dist = dist\n",
    "            min_index = index\n",
    "        index += 1\n",
    "    # Global store of matched indexes if no reuse\n",
    "    if not reuse_images:\n",
    "        MATCH_INDECES.append(min_index)\n",
    "\n",
    "    return (min_index)\n"
   ]
  },
  {
   "cell_type": "code",
   "execution_count": 206,
   "id": "82a7b29a-f424-471f-8326-c56464f7363a",
   "metadata": {},
   "outputs": [],
   "source": [
    "def createImageGrid(images, dims):\n",
    "    m, n = dims\n",
    "    width = max([img.size[0] for img in images])\n",
    "    height = max([img.size[1] for img in images])\n",
    "    grid_img = Image.new('RGB', (n * width, m * height))\n",
    "    for index in range(len(images)):\n",
    "        row = int(index / n)\n",
    "        col = index - n * row\n",
    "        grid_img.paste(images[index], (col * width, row * height))\n",
    "    return (grid_img)\n"
   ]
  },
  {
   "cell_type": "code",
   "execution_count": 239,
   "id": "5e951b77-fdd1-495e-bfd4-af5c9ddc2e54",
   "metadata": {},
   "outputs": [],
   "source": [
    "def createPhotomosaic(target_image, input_images, grid_size,\n",
    "                      reuse_images):\n",
    "    target_images = splitImage(target_image, grid_size)\n",
    "\n",
    "    output_images = []\n",
    "    count = 0\n",
    "    batch_size = int(len(target_images) / 10)\n",
    "    avgs = []\n",
    "    for img in input_images:\n",
    "        try:\n",
    "            avgs.append(getAverageRGB(img))\n",
    "        except ValueError:\n",
    "            continue\n",
    "\n",
    "    match_index_list = []\n",
    "    for img in target_images:\n",
    "        avg = getAverageRGB(img)\n",
    "        match_index = getBestMatchIndex(avg, avgs)\n",
    "        output_images.append(input_images[match_index])\n",
    "        match_index_list.append(match_index)\n",
    "        if count > 0 and batch_size > 10 and count % batch_size == 0:\n",
    "            print('processed %d of %d...' % (count, len(target_images)))\n",
    "        count += 1\n",
    "\n",
    "    mosaic_image = createImageGrid(output_images, grid_size)\n",
    "    return (mosaic_image, match_index_list)"
   ]
  },
  {
   "cell_type": "code",
   "execution_count": 208,
   "id": "0ad353d1-aa5c-4113-9fd1-502cb90351a9",
   "metadata": {},
   "outputs": [],
   "source": [
    "from types import SimpleNamespace"
   ]
  },
  {
   "cell_type": "code",
   "execution_count": 246,
   "id": "808c714a-0881-48a7-87c1-40537badc0f7",
   "metadata": {},
   "outputs": [],
   "source": [
    "args_dic = {}"
   ]
  },
  {
   "cell_type": "code",
   "execution_count": 247,
   "id": "b902445b-1092-47a0-bdda-5a97b9eb78a7",
   "metadata": {},
   "outputs": [],
   "source": [
    "#python Mosaic_Creator.py --target Mona_Lisa.jpg --images img/ --grid 100 100 --output Mona_Lisa_Mosaic.jpeg\n",
    "#args_dic['target'] = 'Mona_Lisa_small.jpg'\n",
    "args_dic['target'] = 'Mona_Lisa.jpg'\n",
    "args_dic['images'] = 'img/'\n",
    "args_dic['grid'] = (83,185)\n",
    "args_dic['output'] = 'Mona_Lisa_Mosaic.jpeg'\n",
    "args_dic['reuse'] = True\n",
    "args_dic['resize'] = True"
   ]
  },
  {
   "cell_type": "code",
   "execution_count": 248,
   "id": "fbec1723-c465-46d1-a9d4-347b9c79e8ff",
   "metadata": {},
   "outputs": [],
   "source": [
    "args = SimpleNamespace(**args_dic)"
   ]
  },
  {
   "cell_type": "code",
   "execution_count": 249,
   "id": "73f29f89-ba30-40d7-ae46-ad98b73c3740",
   "metadata": {},
   "outputs": [],
   "source": [
    "MATCH_INDECES = []"
   ]
  },
  {
   "cell_type": "code",
   "execution_count": 250,
   "id": "304cf35f-8939-4e37-bd0d-e9e7557d3500",
   "metadata": {},
   "outputs": [],
   "source": [
    "target_image = Image.open(args.target)"
   ]
  },
  {
   "cell_type": "code",
   "execution_count": 251,
   "id": "77b518c4-2436-4387-a535-69115915eace",
   "metadata": {},
   "outputs": [
    {
     "data": {
      "text/plain": [
       "(7479, 11146)"
      ]
     },
     "execution_count": 251,
     "metadata": {},
     "output_type": "execute_result"
    }
   ],
   "source": [
    "target_image.size"
   ]
  },
  {
   "cell_type": "code",
   "execution_count": 252,
   "id": "8be2119a-c2ec-4ca9-9799-4cec576f5a72",
   "metadata": {},
   "outputs": [
    {
     "name": "stdout",
     "output_type": "stream",
     "text": [
      "reading input folder...\n",
      "Invalid image: /Volumes/Transcend/GitHub/python-photo-mosaic/img/product\n"
     ]
    }
   ],
   "source": [
    "# input images\n",
    "print('reading input folder...')\n",
    "input_images = getImages(args.images)"
   ]
  },
  {
   "cell_type": "code",
   "execution_count": 253,
   "id": "0ea7eff2-9b0d-4925-afa9-75b4e80283d4",
   "metadata": {},
   "outputs": [
    {
     "data": {
      "text/plain": [
       "'img/'"
      ]
     },
     "execution_count": 253,
     "metadata": {},
     "output_type": "execute_result"
    }
   ],
   "source": [
    "args.images"
   ]
  },
  {
   "cell_type": "code",
   "execution_count": 254,
   "id": "dc782f15-efba-4d75-b972-d3f37d3792c5",
   "metadata": {},
   "outputs": [],
   "source": [
    "import glob"
   ]
  },
  {
   "cell_type": "code",
   "execution_count": 255,
   "id": "75a9a383-88bc-429e-a688-fbef28bfd5c9",
   "metadata": {},
   "outputs": [],
   "source": [
    "tile_path_list = glob.glob(\"img/**/*.png\", recursive=True)"
   ]
  },
  {
   "cell_type": "code",
   "execution_count": 256,
   "id": "038bd625-638c-4172-ac16-e8ad33b5619c",
   "metadata": {},
   "outputs": [],
   "source": [
    "input_images = []\n",
    "for tile in tile_path_list:\n",
    "    try:\n",
    "        im = Image.open(tile)\n",
    "    except:\n",
    "        continue\n",
    "    input_images.append(im)"
   ]
  },
  {
   "cell_type": "raw",
   "id": "a0cfcb72-07d6-4519-8544-7a28eee9400b",
   "metadata": {},
   "source": [
    "# shuffle list - to get a more varied output?\n",
    "random.shuffle(input_images)"
   ]
  },
  {
   "cell_type": "code",
   "execution_count": 257,
   "id": "0a745b13-99d7-4657-95c1-d4aa99e3243a",
   "metadata": {},
   "outputs": [
    {
     "data": {
      "text/plain": [
       "(90, 60)"
      ]
     },
     "execution_count": 257,
     "metadata": {},
     "output_type": "execute_result"
    }
   ],
   "source": [
    "input_images[0].size"
   ]
  },
  {
   "cell_type": "code",
   "execution_count": 258,
   "id": "fb1c96df-1b67-4f6c-b93a-dc2bd127ae86",
   "metadata": {},
   "outputs": [
    {
     "data": {
      "text/plain": [
       "83"
      ]
     },
     "execution_count": 258,
     "metadata": {},
     "output_type": "execute_result"
    }
   ],
   "source": [
    "target_image.width // input_images[0].width"
   ]
  },
  {
   "cell_type": "code",
   "execution_count": 259,
   "id": "aeed2518-ce01-4de4-8411-52b5abf3dc78",
   "metadata": {},
   "outputs": [
    {
     "data": {
      "text/plain": [
       "185"
      ]
     },
     "execution_count": 259,
     "metadata": {},
     "output_type": "execute_result"
    }
   ],
   "source": [
    "target_image.height // input_images[0].height"
   ]
  },
  {
   "cell_type": "code",
   "execution_count": 260,
   "id": "cb30c6b0-a813-4e05-a999-a348f96d8cf4",
   "metadata": {},
   "outputs": [],
   "source": [
    "# size of grid\n",
    "grid_size = (int(args.grid[1]), int(args.grid[0]))"
   ]
  },
  {
   "cell_type": "code",
   "execution_count": 261,
   "id": "49a2533a-5b3b-4624-af78-c746ed5b2cea",
   "metadata": {},
   "outputs": [
    {
     "data": {
      "text/plain": [
       "(185, 83)"
      ]
     },
     "execution_count": 261,
     "metadata": {},
     "output_type": "execute_result"
    }
   ],
   "source": [
    "grid_size"
   ]
  },
  {
   "cell_type": "code",
   "execution_count": 262,
   "id": "51d9207a-b25e-4d9f-944d-c13053176156",
   "metadata": {},
   "outputs": [],
   "source": [
    "output_filename = args.output"
   ]
  },
  {
   "cell_type": "code",
   "execution_count": 263,
   "id": "a3f3aafe-0645-4250-ae35-059985611886",
   "metadata": {},
   "outputs": [],
   "source": [
    "# re-use any image in input\n",
    "reuse_images = args.reuse"
   ]
  },
  {
   "cell_type": "code",
   "execution_count": 264,
   "id": "08e90b2b-f170-4c5b-8ff0-953381a59363",
   "metadata": {},
   "outputs": [],
   "source": [
    "# resize the input to fit original image size?\n",
    "resize_input = args.resize"
   ]
  },
  {
   "cell_type": "code",
   "execution_count": 265,
   "id": "f3acdc62-dfa7-4b95-8b33-e2eff6e1b7a3",
   "metadata": {},
   "outputs": [
    {
     "name": "stdout",
     "output_type": "stream",
     "text": [
      "starting photomosaic creation...\n"
     ]
    }
   ],
   "source": [
    "print('starting photomosaic creation...')"
   ]
  },
  {
   "cell_type": "code",
   "execution_count": 266,
   "id": "93695825-408b-45eb-bdd2-d774de3df4be",
   "metadata": {},
   "outputs": [
    {
     "data": {
      "text/plain": [
       "90.10843373493977"
      ]
     },
     "execution_count": 266,
     "metadata": {},
     "output_type": "execute_result"
    }
   ],
   "source": [
    "target_image.size[0] / grid_size[1]"
   ]
  },
  {
   "cell_type": "code",
   "execution_count": 267,
   "id": "01095e77-fe72-4d1c-8fc2-11dc9ca662be",
   "metadata": {},
   "outputs": [
    {
     "data": {
      "text/plain": [
       "60.24864864864865"
      ]
     },
     "execution_count": 267,
     "metadata": {},
     "output_type": "execute_result"
    }
   ],
   "source": [
    "target_image.size[1] / grid_size[0]"
   ]
  },
  {
   "cell_type": "code",
   "execution_count": 268,
   "id": "c7b4fdce-ce12-4410-ac36-7522dfe9da02",
   "metadata": {},
   "outputs": [
    {
     "name": "stdout",
     "output_type": "stream",
     "text": [
      "resizing images...\n",
      "max tile dims: (90, 60)\n"
     ]
    }
   ],
   "source": [
    "# resizing input\n",
    "if resize_input:\n",
    "    print('resizing images...')\n",
    "    # for given grid size, compute max dims w,h of tiles\n",
    "    dims = (int(target_image.size[0] / grid_size[1]),\n",
    "            int(target_image.size[1] / grid_size[0]))\n",
    "    print(\"max tile dims: %s\" % (dims,))\n",
    "    # resize\n",
    "    for img in input_images:\n",
    "        img.thumbnail(dims)"
   ]
  },
  {
   "cell_type": "code",
   "execution_count": 269,
   "id": "58661fcd-3366-4538-896c-bc53f90e80c6",
   "metadata": {},
   "outputs": [
    {
     "name": "stdout",
     "output_type": "stream",
     "text": [
      "processed 1535 of 15355...\n",
      "processed 3070 of 15355...\n",
      "processed 4605 of 15355...\n",
      "processed 6140 of 15355...\n",
      "processed 7675 of 15355...\n",
      "processed 9210 of 15355...\n",
      "processed 10745 of 15355...\n",
      "processed 12280 of 15355...\n",
      "processed 13815 of 15355...\n",
      "processed 15350 of 15355...\n"
     ]
    }
   ],
   "source": [
    "# create photomosaic\n",
    "mosaic_image, match_index_list = createPhotomosaic(target_image, input_images, grid_size, reuse_images)"
   ]
  },
  {
   "cell_type": "code",
   "execution_count": 270,
   "id": "f1b10977-0e0d-4fe7-acc6-d1a2a6709b57",
   "metadata": {},
   "outputs": [],
   "source": [
    "# write out mosaic\n",
    "mosaic_image.save(output_filename, 'jpeg')"
   ]
  },
  {
   "cell_type": "code",
   "execution_count": 271,
   "id": "169aca3e-4bf8-4b2d-b2a6-b1facf159556",
   "metadata": {},
   "outputs": [
    {
     "data": {
      "text/plain": [
       "15355"
      ]
     },
     "execution_count": 271,
     "metadata": {},
     "output_type": "execute_result"
    }
   ],
   "source": [
    "len(match_index_list)"
   ]
  },
  {
   "cell_type": "code",
   "execution_count": 272,
   "id": "bc3b89bf-b24b-4a04-92e5-fd18b8086e34",
   "metadata": {},
   "outputs": [],
   "source": [
    "from collections import Counter"
   ]
  },
  {
   "cell_type": "code",
   "execution_count": 273,
   "id": "f97f04cc-ca4f-43a5-b6da-e59b9a37185c",
   "metadata": {},
   "outputs": [],
   "source": [
    "c = Counter(match_index_list)"
   ]
  },
  {
   "cell_type": "code",
   "execution_count": 275,
   "id": "96fb0d1d-0c52-4037-a7f1-477e34910f0c",
   "metadata": {},
   "outputs": [],
   "source": [
    "top10 = c.most_common(10)"
   ]
  },
  {
   "cell_type": "code",
   "execution_count": 276,
   "id": "8fd4e62b-b8c3-4323-b28d-2a3fdabe84b5",
   "metadata": {},
   "outputs": [
    {
     "data": {
      "text/plain": [
       "[(69, 1685),\n",
       " (63, 1663),\n",
       " (59, 974),\n",
       " (85, 943),\n",
       " (210, 825),\n",
       " (176, 784),\n",
       " (208, 668),\n",
       " (248, 605),\n",
       " (179, 469),\n",
       " (206, 393)]"
      ]
     },
     "execution_count": 276,
     "metadata": {},
     "output_type": "execute_result"
    }
   ],
   "source": [
    "top10"
   ]
  },
  {
   "cell_type": "code",
   "execution_count": 277,
   "id": "b01e583a-8562-4bca-8753-7f74139ffdd5",
   "metadata": {},
   "outputs": [
    {
     "data": {
      "text/plain": [
       "'img/product/capacitor/ceramic/ceralink/010107_ceralink_b58031u5_pi0101.png'"
      ]
     },
     "execution_count": 277,
     "metadata": {},
     "output_type": "execute_result"
    }
   ],
   "source": [
    "tile_path_list[69]"
   ]
  },
  {
   "cell_type": "code",
   "execution_count": 278,
   "id": "2a3aa555-95f2-4777-8204-e28f03b91787",
   "metadata": {},
   "outputs": [
    {
     "data": {
      "text/plain": [
       "'010107_ceralink_b58031u5_pi0101.png'"
      ]
     },
     "execution_count": 278,
     "metadata": {},
     "output_type": "execute_result"
    }
   ],
   "source": [
    "os.path.basename(tile_path_list[69])"
   ]
  },
  {
   "cell_type": "code",
   "execution_count": 286,
   "id": "b2b21752-4fb4-44a2-9b5b-2f0fb9edcb51",
   "metadata": {},
   "outputs": [
    {
     "name": "stdout",
     "output_type": "stream",
     "text": [
      "11.0%: ceralink, 010107_ceralink_b58031u5_pi0101\n",
      "10.8%: uhv, 010105_tsf-40c_pi0801s\n",
      "6.3%: mlcc, 010101_cna5l-b_pi0101\n",
      "6.1%: line-filter, 030006_aml0519_pi0101\n",
      "5.4%: piezolisten, 080401_phua3030-049b_top_pi0101\n",
      "5.1%: ptc-thermistor, 050203_c810-c995_tpt0521-v_pi0101\n",
      "4.4%: piezohapt, 080101_phua3015-30a-21-000_fpc_pi0101\n",
      "3.9%: tx-coil-module, 160008_wt505090-10f2-a11-g1_pi0101\n",
      "3.1%: ptc-thermistor, 050203_c1412_c1451_tpt1075-t_pi0101\n",
      "2.6%: ptc_switch, 080002_j286_j29_tpt05585_pi0101\n"
     ]
    }
   ],
   "source": [
    "total = len(match_index_list)\n",
    "for i, n in top10:\n",
    "    #print(tile_path_list[i])\n",
    "    basename = os.path.basename(tile_path_list[i])\n",
    "    category = tile_path_list[i].split('/')[-2]\n",
    "    name = basename.split('.')[0]\n",
    "    share = (n / total) * 100\n",
    "    print(\"{:.1f}%: {}, {}\".format(share, category, name))"
   ]
  },
  {
   "cell_type": "code",
   "execution_count": null,
   "id": "8b47aae6-d0a4-4ecd-a988-af9a94af027c",
   "metadata": {},
   "outputs": [],
   "source": []
  }
 ],
 "metadata": {
  "kernelspec": {
   "display_name": "Python 3 (ipykernel)",
   "language": "python",
   "name": "python3"
  },
  "language_info": {
   "codemirror_mode": {
    "name": "ipython",
    "version": 3
   },
   "file_extension": ".py",
   "mimetype": "text/x-python",
   "name": "python",
   "nbconvert_exporter": "python",
   "pygments_lexer": "ipython3",
   "version": "3.9.4"
  }
 },
 "nbformat": 4,
 "nbformat_minor": 5
}
